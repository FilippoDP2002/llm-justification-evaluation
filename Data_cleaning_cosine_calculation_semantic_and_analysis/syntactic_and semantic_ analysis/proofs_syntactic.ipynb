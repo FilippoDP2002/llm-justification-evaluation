{
 "cells": [
  {
   "cell_type": "code",
   "execution_count": null,
   "id": "9a9a1711",
   "metadata": {},
   "outputs": [],
   "source": [
    "import pandas as pd\n",
    "import os \n",
    "desktop_path = os.path.join(os.path.expanduser(\"~\"), \"llm-justification-evaluation\", \"Data_cleaning_cosine_calculation_semantic_and_analysis\")\n",
    "os.chdir(desktop_path)"
   ]
  },
  {
   "cell_type": "code",
   "execution_count": 2,
   "id": "5ea7c3e3",
   "metadata": {},
   "outputs": [],
   "source": [
    "proofs_data = pd.read_csv('NLP_analysis/proofs_analysis.csv')\n"
   ]
  },
  {
   "cell_type": "code",
   "execution_count": 3,
   "id": "625890d5",
   "metadata": {},
   "outputs": [],
   "source": [
    "corpus = proofs_data[\"solution\"].tolist() + \\\n",
    "         proofs_data[\"deepseek-r1:1.5b_reasoning\"].tolist() + \\\n",
    "         proofs_data[\"deepseek-r1:14b_reasoning\"].tolist() + \\\n",
    "         proofs_data[\"qwen2.5:1.5b_reasoning\"].tolist() + \\\n",
    "         proofs_data[\"qwen2.5:14b_reasoning\"].tolist()"
   ]
  },
  {
   "cell_type": "code",
   "execution_count": 4,
   "id": "b68df63d",
   "metadata": {},
   "outputs": [],
   "source": [
    "from sklearn.feature_extraction.text import TfidfVectorizer\n",
    "## Analyze only words, min_df <- words appears at least in 1% of the documents,\n",
    "## max_df <- words appears in at most 75% of the documents, sublinear_tf <- use sublinear term frequency scaling 1 + log(tf)\n",
    "vectorizer = TfidfVectorizer(analyzer='word', min_df=0.01, max_df=0.75, ngram_range=(1, 2), stop_words='english', sublinear_tf=True)\n",
    "X = vectorizer.fit_transform(corpus)"
   ]
  },
  {
   "cell_type": "code",
   "execution_count": 5,
   "id": "a223f283",
   "metadata": {},
   "outputs": [],
   "source": [
    "n = len(proofs_data)\n",
    "Solution = X[0:n]\n",
    "deepseek_r1_1_5b = X[n:2*n]\n",
    "deepseek_r1_14b = X[2*n:3*n]\n",
    "qwen2_5_1_5b = X[3*n:4*n]\n",
    "qwen2_5_14b = X[4*n:5*n]"
   ]
  },
  {
   "cell_type": "code",
   "execution_count": 6,
   "id": "a533a3a9",
   "metadata": {},
   "outputs": [],
   "source": [
    "from sklearn.metrics.pairwise import cosine_similarity\n",
    "\n",
    "deepseek_r1_1_5b_similarity = cosine_similarity(Solution, deepseek_r1_1_5b)\n",
    "deepseek_r1_14b_similarity = cosine_similarity(Solution, deepseek_r1_14b)   \n",
    "qwen2_5_1_5b_similarity = cosine_similarity(Solution, qwen2_5_1_5b)\n",
    "qwen2_5_14b_similarity = cosine_similarity(Solution, qwen2_5_14b)"
   ]
  },
  {
   "cell_type": "code",
   "execution_count": 7,
   "id": "47092a0b",
   "metadata": {},
   "outputs": [],
   "source": [
    "## The result is a matrix where the cell (i,j) contains the cosine similarity between the i-th solution and the j-th reasoning.\n",
    "## But I want only the cosine similarity between the i-th solution and the i-th reasoning.\n",
    "deepseek_r1_1_5b_similarity = deepseek_r1_1_5b_similarity.diagonal()\n",
    "deepseek_r1_14b_similarity = deepseek_r1_14b_similarity.diagonal()\n",
    "qwen2_5_1_5b_similarity = qwen2_5_1_5b_similarity.diagonal()\n",
    "qwen2_5_14b_similarity = qwen2_5_14b_similarity.diagonal()"
   ]
  },
  {
   "cell_type": "code",
   "execution_count": 8,
   "id": "d6b384e3",
   "metadata": {},
   "outputs": [],
   "source": [
    "mean_deepseek_r1_1_5b_similarity = deepseek_r1_1_5b_similarity.mean()\n",
    "mean_deepseek_r1_14b_similarity = deepseek_r1_14b_similarity.mean()\n",
    "mean_qwen2_5_1_5b_similarity = qwen2_5_1_5b_similarity.mean()\n",
    "mean_qwen2_5_14b_similarity = qwen2_5_14b_similarity.mean()"
   ]
  },
  {
   "cell_type": "code",
   "execution_count": 9,
   "id": "0eb2b199",
   "metadata": {},
   "outputs": [
    {
     "name": "stdout",
     "output_type": "stream",
     "text": [
      "DeepSeek R1 1.5B Similarity:\n",
      "0.14954747901631155\n",
      "DeepSeek R1 14B Similarity:\n",
      "0.26308490496110004\n",
      "Qwen2.5 1.5B Similarity:\n",
      "0.3137835634779472\n",
      "Qwen2.5 14B Similarity:\n",
      "0.3437737172755133\n"
     ]
    }
   ],
   "source": [
    "print(\"DeepSeek R1 1.5B Similarity:\")\n",
    "print(deepseek_r1_1_5b_similarity.mean(axis=0))\n",
    "print(\"DeepSeek R1 14B Similarity:\")\n",
    "print(deepseek_r1_14b_similarity.mean(axis=0))\n",
    "print(\"Qwen2.5 1.5B Similarity:\")\n",
    "print(qwen2_5_1_5b_similarity.mean(axis=0))\n",
    "print(\"Qwen2.5 14B Similarity:\")\n",
    "print(qwen2_5_14b_similarity.mean(axis=0))"
   ]
  },
  {
   "cell_type": "code",
   "execution_count": 10,
   "id": "b776403f",
   "metadata": {},
   "outputs": [
    {
     "name": "stdout",
     "output_type": "stream",
     "text": [
      "              Model      Mean    Median       Std\n",
      "0  DeepSeek R1 1.5B  0.149547  0.102391  0.150340\n",
      "1   DeepSeek R1 14B  0.263085  0.244341  0.185292\n",
      "2      Qwen2.5 1.5B  0.313784  0.301753  0.160970\n",
      "3       Qwen2.5 14B  0.343774  0.324102  0.169459\n"
     ]
    }
   ],
   "source": [
    "import numpy as np\n",
    "\n",
    "\n",
    "stats = {\n",
    "    \"Model\": [\n",
    "        \"DeepSeek R1 1.5B\",\n",
    "        \"DeepSeek R1 14B\",\n",
    "        \"Qwen2.5 1.5B\",\n",
    "        \"Qwen2.5 14B\"\n",
    "    ],\n",
    "    \"Mean\": [\n",
    "        np.mean(deepseek_r1_1_5b_similarity),\n",
    "        np.mean(deepseek_r1_14b_similarity),\n",
    "        np.mean(qwen2_5_1_5b_similarity),\n",
    "        np.mean(qwen2_5_14b_similarity)\n",
    "    ],\n",
    "    \"Median\": [\n",
    "        np.median(deepseek_r1_1_5b_similarity),\n",
    "        np.median(deepseek_r1_14b_similarity),\n",
    "        np.median(qwen2_5_1_5b_similarity),\n",
    "        np.median(qwen2_5_14b_similarity)\n",
    "    ],\n",
    "    \"Std\": [\n",
    "        np.std(deepseek_r1_1_5b_similarity),\n",
    "        np.std(deepseek_r1_14b_similarity),\n",
    "        np.std(qwen2_5_1_5b_similarity),\n",
    "        np.std(qwen2_5_14b_similarity)\n",
    "    ]\n",
    "}\n",
    "\n",
    "stats_df = pd.DataFrame(stats)\n",
    "print(stats_df)"
   ]
  },
  {
   "cell_type": "markdown",
   "id": "64964f89",
   "metadata": {},
   "source": [
    "N-GRAMS OVERLAP"
   ]
  },
  {
   "cell_type": "code",
   "execution_count": 11,
   "id": "c7744ddf",
   "metadata": {},
   "outputs": [],
   "source": [
    "### BUILD FUNCTION FOR N-GRAM OVERLAP ###\n",
    "\n",
    "def ngrams(text, n):\n",
    "    tokens = text.lower().split()\n",
    "    return set([' '.join(tokens[i:i+n]) for i in range(len(tokens)-n+1)])\n",
    "\n",
    "def ngram_overlap(text1, text2, n):\n",
    "    ngrams1 = ngrams(text1, n)\n",
    "    ngrams2 = ngrams(text2, n)\n",
    "    \n",
    "    intersection = len(ngrams1 & ngrams2)\n",
    "    union = len(ngrams1 | ngrams2)\n",
    "    \n",
    "    if union == 0:\n",
    "        return 0.0\n",
    "    else:\n",
    "        return intersection / union"
   ]
  },
  {
   "cell_type": "code",
   "execution_count": 12,
   "id": "0df35e8c",
   "metadata": {},
   "outputs": [],
   "source": [
    "# N-gram overlap with n=3 (can change with n=2, n=1)\n",
    "n = 3\n",
    "\n",
    "proofs_data['deepseek_r1_1_5b_ngram_overlap'] = proofs_data.apply(lambda row: ngram_overlap(row['solution'], row['deepseek-r1:1.5b_reasoning'], n), axis=1)\n",
    "proofs_data['deepseek_r1_14b_ngram_overlap']  = proofs_data.apply(lambda row: ngram_overlap(row['solution'], row['deepseek-r1:14b_reasoning'], n), axis=1)\n",
    "proofs_data['qwen2_5_1_5b_ngram_overlap']     = proofs_data.apply(lambda row: ngram_overlap(row['solution'], row['qwen2.5:1.5b_reasoning'], n), axis=1)\n",
    "proofs_data['qwen2_5_14b_ngram_overlap']      = proofs_data.apply(lambda row: ngram_overlap(row['solution'], row['qwen2.5:14b_reasoning'], n), axis=1)"
   ]
  },
  {
   "cell_type": "code",
   "execution_count": 13,
   "id": "e613cc28",
   "metadata": {},
   "outputs": [],
   "source": [
    "mean_deepseek_r1_1_5b_ngram = proofs_data['deepseek_r1_1_5b_ngram_overlap'].mean()\n",
    "mean_deepseek_r1_14b_ngram  = proofs_data['deepseek_r1_14b_ngram_overlap'].mean()\n",
    "mean_qwen2_5_1_5b_ngram     = proofs_data['qwen2_5_1_5b_ngram_overlap'].mean()\n",
    "mean_qwen2_5_14b_ngram      = proofs_data['qwen2_5_14b_ngram_overlap'].mean()"
   ]
  },
  {
   "cell_type": "code",
   "execution_count": 14,
   "id": "f415127d",
   "metadata": {},
   "outputs": [
    {
     "name": "stdout",
     "output_type": "stream",
     "text": [
      "Mean N-gram overlap (DeepSeek 1.5B): 0.00418743923482185\n",
      "Mean N-gram overlap (DeepSeek 14B): 0.008996559533700156\n",
      "Mean N-gram overlap (Qwen 1.5B): 0.009809463983717296\n",
      "Mean N-gram overlap (Qwen 14B): 0.011914660031354668\n"
     ]
    }
   ],
   "source": [
    "print(\"Mean N-gram overlap (DeepSeek 1.5B):\", mean_deepseek_r1_1_5b_ngram)\n",
    "print(\"Mean N-gram overlap (DeepSeek 14B):\", mean_deepseek_r1_14b_ngram)\n",
    "print(\"Mean N-gram overlap (Qwen 1.5B):\", mean_qwen2_5_1_5b_ngram)\n",
    "print(\"Mean N-gram overlap (Qwen 14B):\", mean_qwen2_5_14b_ngram)"
   ]
  },
  {
   "cell_type": "markdown",
   "id": "41eb9cc1",
   "metadata": {},
   "source": [
    "METRICHE/SCORE"
   ]
  },
  {
   "cell_type": "code",
   "execution_count": 15,
   "id": "b32fbaff",
   "metadata": {},
   "outputs": [],
   "source": [
    "from nltk.translate.bleu_score import sentence_bleu, SmoothingFunction\n",
    "from nltk.translate.meteor_score import single_meteor_score\n",
    "from rouge_score import rouge_scorer\n",
    "import sacrebleu"
   ]
  },
  {
   "cell_type": "code",
   "execution_count": 16,
   "id": "774d98ee",
   "metadata": {},
   "outputs": [],
   "source": [
    "### BLEU SCORE ###\n",
    "\n",
    "#smoothing function in order to prevent zero division errors\n",
    "smoothie = SmoothingFunction().method4\n",
    "\n",
    "def compute_bleu(reference_text, candidate_text):\n",
    "    reference = [reference_text.lower().split()]\n",
    "    candidate = candidate_text.lower().split()\n",
    "    return sentence_bleu(reference, candidate, smoothing_function=smoothie)"
   ]
  },
  {
   "cell_type": "code",
   "execution_count": 17,
   "id": "ef25f95c",
   "metadata": {},
   "outputs": [],
   "source": [
    "### ROUGE-L ###\n",
    "\n",
    "rouge_scorer_obj = rouge_scorer.RougeScorer(['rougeL'], use_stemmer = True)\n",
    "\n",
    "def compute_rouge(reference_text, candidate_text):\n",
    "    scores = rouge_scorer_obj.score(reference_text, candidate_text)\n",
    "    #F1 measure of ROUGE-L\n",
    "    return scores['rougeL'].fmeasure "
   ]
  },
  {
   "cell_type": "code",
   "execution_count": 18,
   "id": "a3b8185c",
   "metadata": {},
   "outputs": [
    {
     "name": "stderr",
     "output_type": "stream",
     "text": [
      "[nltk_data] Downloading package wordnet to\n",
      "[nltk_data]     C:\\Users\\filip\\AppData\\Roaming\\nltk_data...\n",
      "[nltk_data]   Package wordnet is already up-to-date!\n",
      "[nltk_data] Downloading package omw-1.4 to\n",
      "[nltk_data]     C:\\Users\\filip\\AppData\\Roaming\\nltk_data...\n",
      "[nltk_data]   Package omw-1.4 is already up-to-date!\n"
     ]
    }
   ],
   "source": [
    "### METEOR SCORE ###\n",
    "\n",
    "import nltk\n",
    "nltk.download('wordnet')\n",
    "nltk.download('omw-1.4')\n",
    "\n",
    "def compute_meteor(reference_text, candidate_text):\n",
    "    return single_meteor_score(reference_text.lower().split(), candidate_text.lower().split())"
   ]
  },
  {
   "cell_type": "code",
   "execution_count": 19,
   "id": "708fca59",
   "metadata": {},
   "outputs": [],
   "source": [
    "# BLEU\n",
    "proofs_data['deepseek_r1_1_5b_bleu'] = proofs_data.apply(lambda row: compute_bleu(row['solution'], row['deepseek-r1:1.5b_reasoning']), axis=1)\n",
    "proofs_data['deepseek_r1_14b_bleu']  = proofs_data.apply(lambda row: compute_bleu(row['solution'], row['deepseek-r1:14b_reasoning']), axis=1)\n",
    "proofs_data['qwen2_5_1_5b_bleu']     = proofs_data.apply(lambda row: compute_bleu(row['solution'], row['qwen2.5:1.5b_reasoning']), axis=1)\n",
    "proofs_data['qwen2_5_14b_bleu']      = proofs_data.apply(lambda row: compute_bleu(row['solution'], row['qwen2.5:14b_reasoning']), axis=1)"
   ]
  },
  {
   "cell_type": "code",
   "execution_count": 20,
   "id": "d86383c1",
   "metadata": {},
   "outputs": [],
   "source": [
    "# ROUGE-L\n",
    "proofs_data['deepseek_r1_1_5b_rouge_l'] = proofs_data.apply(lambda row: compute_rouge(row['solution'], row['deepseek-r1:1.5b_reasoning']), axis=1)\n",
    "proofs_data['deepseek_r1_14b_rouge_l']  = proofs_data.apply(lambda row: compute_rouge(row['solution'], row['deepseek-r1:14b_reasoning']), axis=1)   \n",
    "proofs_data['qwen2_5_1_5b_rouge_l']     = proofs_data.apply(lambda row: compute_rouge(row['solution'], row['qwen2.5:1.5b_reasoning']), axis=1)\n",
    "proofs_data['qwen2_5_14b_rouge_l']      = proofs_data.apply(lambda row: compute_rouge(row['solution'], row['qwen2.5:14b_reasoning']), axis=1)"
   ]
  },
  {
   "cell_type": "code",
   "execution_count": 21,
   "id": "f7c4c5e3",
   "metadata": {},
   "outputs": [],
   "source": [
    "# METEOR\n",
    "proofs_data['deepseek_r1_1_5b_meteor'] = proofs_data.apply(lambda row: compute_meteor(row['solution'], row['deepseek-r1:1.5b_reasoning']), axis=1)\n",
    "proofs_data['deepseek_r1_14b_meteor']  = proofs_data.apply(lambda row: compute_meteor(row['solution'], row['deepseek-r1:14b_reasoning']), axis=1)\n",
    "proofs_data['qwen2_5_1_5b_meteor']     = proofs_data.apply(lambda row: compute_meteor(row['solution'], row['qwen2.5:1.5b_reasoning']), axis=1)\n",
    "proofs_data['qwen2_5_14b_meteor']      = proofs_data.apply(lambda row: compute_meteor(row['solution'], row['qwen2.5:14b_reasoning']), axis=1)"
   ]
  },
  {
   "cell_type": "code",
   "execution_count": 22,
   "id": "35a871b6",
   "metadata": {},
   "outputs": [
    {
     "name": "stdout",
     "output_type": "stream",
     "text": [
      "Mean BLEU DeepSeek_1.5: 0.013160347028055007\n",
      "Mean BLEU DeepSeek_14B: 0.02192681210436644\n",
      "Mean BLEU Qwen2.5_1.5: 0.025534973759111713\n",
      "Mean BLEU Qwen2.5_14B: 0.030236821426794635\n"
     ]
    }
   ],
   "source": [
    "print(\"Mean BLEU DeepSeek_1.5:\", proofs_data['deepseek_r1_1_5b_bleu'].mean())\n",
    "print(\"Mean BLEU DeepSeek_14B:\", proofs_data['deepseek_r1_14b_bleu'].mean())\n",
    "print(\"Mean BLEU Qwen2.5_1.5:\", proofs_data['qwen2_5_1_5b_bleu'].mean())\n",
    "print(\"Mean BLEU Qwen2.5_14B:\", proofs_data['qwen2_5_14b_bleu'].mean())"
   ]
  },
  {
   "cell_type": "code",
   "execution_count": 23,
   "id": "9fc8ec9a",
   "metadata": {},
   "outputs": [
    {
     "name": "stdout",
     "output_type": "stream",
     "text": [
      "Mean ROUGE-L DeepSeek_1.5: 0.16572394760875064\n",
      "Mean ROUGE-L DeepSeek_14B: 0.2265877833865113\n",
      "Mean ROUGE-L Qwen2.5_1.5: 0.24604177001140334\n",
      "Mean ROUGE-L Qwen2.5_14B: 0.26857285387175184\n"
     ]
    }
   ],
   "source": [
    "print(\"Mean ROUGE-L DeepSeek_1.5:\", proofs_data['deepseek_r1_1_5b_rouge_l'].mean())\n",
    "print(\"Mean ROUGE-L DeepSeek_14B:\", proofs_data['deepseek_r1_14b_rouge_l'].mean())\n",
    "print(\"Mean ROUGE-L Qwen2.5_1.5:\", proofs_data['qwen2_5_1_5b_rouge_l'].mean())\n",
    "print(\"Mean ROUGE-L Qwen2.5_14B:\", proofs_data['qwen2_5_14b_rouge_l'].mean())"
   ]
  },
  {
   "cell_type": "code",
   "execution_count": 24,
   "id": "1a4dd9ac",
   "metadata": {},
   "outputs": [
    {
     "name": "stdout",
     "output_type": "stream",
     "text": [
      "Mean METEOR DeepSeek_1.5: 0.10160730757803033\n",
      "Mean METEOR DeepSeek_14B: 0.1303263314967935\n",
      "Mean METEOR Qwen2.5_1.5: 0.17410971440386738\n",
      "Mean METEOR Qwen2.5_14B: 0.18064696154743887\n"
     ]
    }
   ],
   "source": [
    "print(\"Mean METEOR DeepSeek_1.5:\", proofs_data['deepseek_r1_1_5b_meteor'].mean())\n",
    "print(\"Mean METEOR DeepSeek_14B:\", proofs_data['deepseek_r1_14b_meteor'].mean())\n",
    "print(\"Mean METEOR Qwen2.5_1.5:\", proofs_data['qwen2_5_1_5b_meteor'].mean())\n",
    "print(\"Mean METEOR Qwen2.5_14B:\", proofs_data['qwen2_5_14b_meteor'].mean())"
   ]
  },
  {
   "cell_type": "code",
   "execution_count": 25,
   "id": "0c8afb12",
   "metadata": {},
   "outputs": [
    {
     "name": "stdout",
     "output_type": "stream",
     "text": [
      "                  Cosine Similarity  N-gram Overlap      BLEU   ROUGE-L  \\\n",
      "DeepSeek R1 1.5B           0.149547        0.004187  0.013160  0.165724   \n",
      "DeepSeek R1 14B            0.263085        0.008997  0.021927  0.226588   \n",
      "Qwen2.5 1.5B               0.313784        0.009809  0.025535  0.246042   \n",
      "Qwen2.5 14B                0.343774        0.011915  0.030237  0.268573   \n",
      "\n",
      "                    METEOR  \n",
      "DeepSeek R1 1.5B  0.101607  \n",
      "DeepSeek R1 14B   0.130326  \n",
      "Qwen2.5 1.5B      0.174110  \n",
      "Qwen2.5 14B       0.180647  \n"
     ]
    }
   ],
   "source": [
    "metrics = {\n",
    "    \"Cosine Similarity\": [\n",
    "        deepseek_r1_1_5b_similarity.mean(),\n",
    "        deepseek_r1_14b_similarity.mean(),\n",
    "        qwen2_5_1_5b_similarity.mean(),\n",
    "        qwen2_5_14b_similarity.mean()\n",
    "    ],\n",
    "    \"N-gram Overlap\": [\n",
    "        proofs_data['deepseek_r1_1_5b_ngram_overlap'].mean(),\n",
    "        proofs_data['deepseek_r1_14b_ngram_overlap'].mean(),\n",
    "        proofs_data['qwen2_5_1_5b_ngram_overlap'].mean(),\n",
    "        proofs_data['qwen2_5_14b_ngram_overlap'].mean()\n",
    "    ],\n",
    "    \"BLEU\": [\n",
    "        proofs_data['deepseek_r1_1_5b_bleu'].mean(),\n",
    "        proofs_data['deepseek_r1_14b_bleu'].mean(),\n",
    "        proofs_data['qwen2_5_1_5b_bleu'].mean(),\n",
    "        proofs_data['qwen2_5_14b_bleu'].mean()\n",
    "    ],\n",
    "    \"ROUGE-L\": [\n",
    "        proofs_data['deepseek_r1_1_5b_rouge_l'].mean(),\n",
    "        proofs_data['deepseek_r1_14b_rouge_l'].mean(),\n",
    "        proofs_data['qwen2_5_1_5b_rouge_l'].mean(),\n",
    "        proofs_data['qwen2_5_14b_rouge_l'].mean()\n",
    "    ],\n",
    "    \"METEOR\": [\n",
    "        proofs_data['deepseek_r1_1_5b_meteor'].mean(),\n",
    "        proofs_data['deepseek_r1_14b_meteor'].mean(),\n",
    "        proofs_data['qwen2_5_1_5b_meteor'].mean(),\n",
    "        proofs_data['qwen2_5_14b_meteor'].mean()\n",
    "    ]\n",
    "}\n",
    "\n",
    "models = [\"DeepSeek R1 1.5B\", \"DeepSeek R1 14B\", \"Qwen2.5 1.5B\", \"Qwen2.5 14B\"]\n",
    "metrics_df = pd.DataFrame(metrics, index=models)\n",
    "print(metrics_df)"
   ]
  }
 ],
 "metadata": {
  "kernelspec": {
   "display_name": "Python 3",
   "language": "python",
   "name": "python3"
  },
  "language_info": {
   "codemirror_mode": {
    "name": "ipython",
    "version": 3
   },
   "file_extension": ".py",
   "mimetype": "text/x-python",
   "name": "python",
   "nbconvert_exporter": "python",
   "pygments_lexer": "ipython3",
   "version": "3.13.2"
  }
 },
 "nbformat": 4,
 "nbformat_minor": 5
}
