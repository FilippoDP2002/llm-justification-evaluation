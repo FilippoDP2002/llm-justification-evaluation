{
 "cells": [
  {
   "cell_type": "code",
   "execution_count": null,
   "id": "26a42686",
   "metadata": {},
   "outputs": [],
   "source": [
    "import pandas as pd\n",
    "import os \n",
    "desktop_path = os.path.join(os.path.expanduser(\"~\"), \"llm-justification-evaluation\", \"Data_cleaning_cosine_calculation_semantic_and_analysis\")\n",
    "os.chdir(desktop_path)"
   ]
  },
  {
   "cell_type": "code",
   "execution_count": 3,
   "id": "2bc4034e",
   "metadata": {},
   "outputs": [
    {
     "data": {
      "text/html": [
       "<div>\n",
       "<style scoped>\n",
       "    .dataframe tbody tr th:only-of-type {\n",
       "        vertical-align: middle;\n",
       "    }\n",
       "\n",
       "    .dataframe tbody tr th {\n",
       "        vertical-align: top;\n",
       "    }\n",
       "\n",
       "    .dataframe thead th {\n",
       "        text-align: right;\n",
       "    }\n",
       "</style>\n",
       "<table border=\"1\" class=\"dataframe\">\n",
       "  <thead>\n",
       "    <tr style=\"text-align: right;\">\n",
       "      <th></th>\n",
       "      <th>evaluation</th>\n",
       "      <th>deepseek-r1:1.5b_reasoning</th>\n",
       "      <th>deepseek-r1:14b_reasoning</th>\n",
       "      <th>qwen2.5:1.5b_reasoning</th>\n",
       "      <th>qwen2.5:14b_reasoning</th>\n",
       "    </tr>\n",
       "  </thead>\n",
       "  <tbody>\n",
       "    <tr>\n",
       "      <th>0</th>\n",
       "      <td>In the modern society, people’s work clothes h...</td>\n",
       "      <td>```markdown\\n## Task Achievement  \\nThe essay ...</td>\n",
       "      <td>## Task Achievement\\n- The candidate presents ...</td>\n",
       "      <td>## Task Achievement\\n\\nThe candidate successfu...</td>\n",
       "      <td>## Task Achievement\\n- The candidate addresses...</td>\n",
       "    </tr>\n",
       "    <tr>\n",
       "      <th>1</th>\n",
       "      <td>Robotic technology is relatively new in our li...</td>\n",
       "      <td>**Feedback and Additional Comments**\\n\\n**Stre...</td>\n",
       "      <td>## Task Achievement\\n- The candidate addresses...</td>\n",
       "      <td>## Task Achievement\\n\\nThe candidate addresses...</td>\n",
       "      <td>## Task Achievement\\n- The candidate partially...</td>\n",
       "    </tr>\n",
       "    <tr>\n",
       "      <th>2</th>\n",
       "      <td>Advertisements take up more and more space in ...</td>\n",
       "      <td>**Evaluation Report**\\n\\n- **Task Achievement:...</td>\n",
       "      <td>## Task Achievement\\n- The candidate presents ...</td>\n",
       "      <td>## Task Achievement\\n\\nThe candidate addresses...</td>\n",
       "      <td>## Task Achievement\\n- The candidate addresses...</td>\n",
       "    </tr>\n",
       "    <tr>\n",
       "      <th>3</th>\n",
       "      <td>Currently, there are raging debates about whet...</td>\n",
       "      <td>**Task Achievement**:  \\nThe essay effectively...</td>\n",
       "      <td>## Task Achievement\\n- **Strengths:** The essa...</td>\n",
       "      <td>## Task Achievement\\n\\n- **Evaluation:** The c...</td>\n",
       "      <td>## Task Achievement\\n- The candidate addresses...</td>\n",
       "    </tr>\n",
       "    <tr>\n",
       "      <th>4</th>\n",
       "      <td>After completing school life, all teenagers st...</td>\n",
       "      <td>**Evaluation of the Essay:**\\n\\n- **Task Achie...</td>\n",
       "      <td>## Task Achievement\\n- The candidate addresses...</td>\n",
       "      <td>## Task Achievement\\n\\nThe candidate covers bo...</td>\n",
       "      <td>## Task Achievement\\n- The candidate discusses...</td>\n",
       "    </tr>\n",
       "    <tr>\n",
       "      <th>...</th>\n",
       "      <td>...</td>\n",
       "      <td>...</td>\n",
       "      <td>...</td>\n",
       "      <td>...</td>\n",
       "      <td>...</td>\n",
       "    </tr>\n",
       "    <tr>\n",
       "      <th>495</th>\n",
       "      <td>Currently, more and more people are moving tow...</td>\n",
       "      <td>```markdown\\n## Task Achievement  \\n- The essa...</td>\n",
       "      <td>## Task Achievement\\n- The candidate addresses...</td>\n",
       "      <td>### Task Achievement\\n\\nThe candidate addresse...</td>\n",
       "      <td>## Task Achievement\\n- The candidate addresses...</td>\n",
       "    </tr>\n",
       "    <tr>\n",
       "      <th>496</th>\n",
       "      <td>As we can see that people are fond of the stor...</td>\n",
       "      <td>```markdown\\n## Task Achievement\\n\\n- The essa...</td>\n",
       "      <td>## Task Achievement\\n- The candidate addresses...</td>\n",
       "      <td>## Task Achievement\\n\\nThe candidate addresses...</td>\n",
       "      <td>## Task Achievement\\n- The candidate addresses...</td>\n",
       "    </tr>\n",
       "    <tr>\n",
       "      <th>497</th>\n",
       "      <td>While it is considered by some people that get...</td>\n",
       "      <td>**Task Achievement**  \\nThe essay successfully...</td>\n",
       "      <td>## Task Achievement\\nThe candidate addresses b...</td>\n",
       "      <td>## Task Achievement\\n\\n- The candidate address...</td>\n",
       "      <td>## Task Achievement\\n- The candidate adequatel...</td>\n",
       "    </tr>\n",
       "    <tr>\n",
       "      <th>498</th>\n",
       "      <td>Single-sex education is an aproach that is gai...</td>\n",
       "      <td>The essay effectively addresses all aspects of...</td>\n",
       "      <td>## Task Achievement\\n- The candidate addresses...</td>\n",
       "      <td>## Task Achievement\\n\\nThe candidate successfu...</td>\n",
       "      <td>## Task Achievement\\n- The essay broadly addre...</td>\n",
       "    </tr>\n",
       "    <tr>\n",
       "      <th>499</th>\n",
       "      <td>In the present age, many people believe that a...</td>\n",
       "      <td>**Candidate Essay on Art's Importance in Schoo...</td>\n",
       "      <td>## Task Achievement\\n- The candidate addresses...</td>\n",
       "      <td>## Task Achievement\\n\\nThe candidate addresses...</td>\n",
       "      <td>## Task Achievement\\n- The essay addresses bot...</td>\n",
       "    </tr>\n",
       "  </tbody>\n",
       "</table>\n",
       "<p>500 rows × 5 columns</p>\n",
       "</div>"
      ],
      "text/plain": [
       "                                            evaluation  \\\n",
       "0    In the modern society, people’s work clothes h...   \n",
       "1    Robotic technology is relatively new in our li...   \n",
       "2    Advertisements take up more and more space in ...   \n",
       "3    Currently, there are raging debates about whet...   \n",
       "4    After completing school life, all teenagers st...   \n",
       "..                                                 ...   \n",
       "495  Currently, more and more people are moving tow...   \n",
       "496  As we can see that people are fond of the stor...   \n",
       "497  While it is considered by some people that get...   \n",
       "498  Single-sex education is an aproach that is gai...   \n",
       "499  In the present age, many people believe that a...   \n",
       "\n",
       "                            deepseek-r1:1.5b_reasoning  \\\n",
       "0    ```markdown\\n## Task Achievement  \\nThe essay ...   \n",
       "1    **Feedback and Additional Comments**\\n\\n**Stre...   \n",
       "2    **Evaluation Report**\\n\\n- **Task Achievement:...   \n",
       "3    **Task Achievement**:  \\nThe essay effectively...   \n",
       "4    **Evaluation of the Essay:**\\n\\n- **Task Achie...   \n",
       "..                                                 ...   \n",
       "495  ```markdown\\n## Task Achievement  \\n- The essa...   \n",
       "496  ```markdown\\n## Task Achievement\\n\\n- The essa...   \n",
       "497  **Task Achievement**  \\nThe essay successfully...   \n",
       "498  The essay effectively addresses all aspects of...   \n",
       "499  **Candidate Essay on Art's Importance in Schoo...   \n",
       "\n",
       "                             deepseek-r1:14b_reasoning  \\\n",
       "0    ## Task Achievement\\n- The candidate presents ...   \n",
       "1    ## Task Achievement\\n- The candidate addresses...   \n",
       "2    ## Task Achievement\\n- The candidate presents ...   \n",
       "3    ## Task Achievement\\n- **Strengths:** The essa...   \n",
       "4    ## Task Achievement\\n- The candidate addresses...   \n",
       "..                                                 ...   \n",
       "495  ## Task Achievement\\n- The candidate addresses...   \n",
       "496  ## Task Achievement\\n- The candidate addresses...   \n",
       "497  ## Task Achievement\\nThe candidate addresses b...   \n",
       "498  ## Task Achievement\\n- The candidate addresses...   \n",
       "499  ## Task Achievement\\n- The candidate addresses...   \n",
       "\n",
       "                                qwen2.5:1.5b_reasoning  \\\n",
       "0    ## Task Achievement\\n\\nThe candidate successfu...   \n",
       "1    ## Task Achievement\\n\\nThe candidate addresses...   \n",
       "2    ## Task Achievement\\n\\nThe candidate addresses...   \n",
       "3    ## Task Achievement\\n\\n- **Evaluation:** The c...   \n",
       "4    ## Task Achievement\\n\\nThe candidate covers bo...   \n",
       "..                                                 ...   \n",
       "495  ### Task Achievement\\n\\nThe candidate addresse...   \n",
       "496  ## Task Achievement\\n\\nThe candidate addresses...   \n",
       "497  ## Task Achievement\\n\\n- The candidate address...   \n",
       "498  ## Task Achievement\\n\\nThe candidate successfu...   \n",
       "499  ## Task Achievement\\n\\nThe candidate addresses...   \n",
       "\n",
       "                                 qwen2.5:14b_reasoning  \n",
       "0    ## Task Achievement\\n- The candidate addresses...  \n",
       "1    ## Task Achievement\\n- The candidate partially...  \n",
       "2    ## Task Achievement\\n- The candidate addresses...  \n",
       "3    ## Task Achievement\\n- The candidate addresses...  \n",
       "4    ## Task Achievement\\n- The candidate discusses...  \n",
       "..                                                 ...  \n",
       "495  ## Task Achievement\\n- The candidate addresses...  \n",
       "496  ## Task Achievement\\n- The candidate addresses...  \n",
       "497  ## Task Achievement\\n- The candidate adequatel...  \n",
       "498  ## Task Achievement\\n- The essay broadly addre...  \n",
       "499  ## Task Achievement\\n- The essay addresses bot...  \n",
       "\n",
       "[500 rows x 5 columns]"
      ]
     },
     "execution_count": 3,
     "metadata": {},
     "output_type": "execute_result"
    }
   ],
   "source": [
    "essay_evaluation_data = pd.read_csv(\"NLP_analysis/essay_evaluation_analysis.csv\")\n",
    "essay_evaluation_data.rename(columns={\"essay\": \"evaluation\"}, inplace=True)\n",
    "essay_evaluation_data = essay_evaluation_data[[\"evaluation\", \"deepseek-r1:1.5b_reasoning\", \"deepseek-r1:14b_reasoning\",\n",
    "                                                    \"qwen2.5:1.5b_reasoning\", \"qwen2.5:14b_reasoning\"]]\n",
    "essay_evaluation_data"
   ]
  },
  {
   "cell_type": "markdown",
   "id": "82ec7809",
   "metadata": {},
   "source": [
    "TFIDF"
   ]
  },
  {
   "cell_type": "code",
   "execution_count": 4,
   "id": "e12c03ce",
   "metadata": {},
   "outputs": [],
   "source": [
    "corpus = essay_evaluation_data[\"evaluation\"].tolist() + \\\n",
    "         essay_evaluation_data[\"deepseek-r1:1.5b_reasoning\"].tolist() + \\\n",
    "         essay_evaluation_data[\"deepseek-r1:14b_reasoning\"].tolist() + \\\n",
    "         essay_evaluation_data[\"qwen2.5:1.5b_reasoning\"].tolist() + \\\n",
    "         essay_evaluation_data[\"qwen2.5:14b_reasoning\"].tolist()"
   ]
  },
  {
   "cell_type": "code",
   "execution_count": 5,
   "id": "1105a76e",
   "metadata": {},
   "outputs": [],
   "source": [
    "from sklearn.feature_extraction.text import TfidfVectorizer\n",
    "## Analyze only words, min_df <- words appears at least in 1% of the documents,\n",
    "## max_df <- words appears in at most 75% of the documents, sublinear_tf <- use sublinear term frequency scaling 1 + log(tf)\n",
    "vectorizer = TfidfVectorizer(analyzer='word', min_df=0.01, max_df=0.75, ngram_range=(1, 2), stop_words='english', sublinear_tf=True)\n",
    "X = vectorizer.fit_transform(corpus)"
   ]
  },
  {
   "cell_type": "code",
   "execution_count": 6,
   "id": "0fc3fbe4",
   "metadata": {},
   "outputs": [],
   "source": [
    "n = len(essay_evaluation_data)\n",
    "Solution = X[0:n]\n",
    "deepseek_r1_1_5b = X[n:2*n]\n",
    "deepseek_r1_14b = X[2*n:3*n]\n",
    "qwen2_5_1_5b = X[3*n:4*n]\n",
    "qwen2_5_14b = X[4*n:5*n]"
   ]
  },
  {
   "cell_type": "code",
   "execution_count": 7,
   "id": "bec9882c",
   "metadata": {},
   "outputs": [],
   "source": [
    "from sklearn.metrics.pairwise import cosine_similarity\n",
    "\n",
    "deepseek_r1_1_5b_similarity = cosine_similarity(Solution, deepseek_r1_1_5b)\n",
    "deepseek_r1_14b_similarity = cosine_similarity(Solution, deepseek_r1_14b)   \n",
    "qwen2_5_1_5b_similarity = cosine_similarity(Solution, qwen2_5_1_5b)\n",
    "qwen2_5_14b_similarity = cosine_similarity(Solution, qwen2_5_14b)"
   ]
  },
  {
   "cell_type": "code",
   "execution_count": 8,
   "id": "b638d87f",
   "metadata": {},
   "outputs": [],
   "source": [
    "## The result is a matrix where the cell (i,j) contains the cosine similarity between the i-th solution and the j-th reasoning.\n",
    "## But I want only the cosine similarity between the i-th solution and the i-th reasoning.\n",
    "deepseek_r1_1_5b_similarity = deepseek_r1_1_5b_similarity.diagonal()\n",
    "deepseek_r1_14b_similarity = deepseek_r1_14b_similarity.diagonal()\n",
    "qwen2_5_1_5b_similarity = qwen2_5_1_5b_similarity.diagonal()\n",
    "qwen2_5_14b_similarity = qwen2_5_14b_similarity.diagonal()"
   ]
  },
  {
   "cell_type": "code",
   "execution_count": 9,
   "id": "a51369ee",
   "metadata": {},
   "outputs": [],
   "source": [
    "mean_deepseek_r1_1_5b_similarity = deepseek_r1_1_5b_similarity.mean()\n",
    "mean_deepseek_r1_14b_similarity = deepseek_r1_14b_similarity.mean()\n",
    "mean_qwen2_5_1_5b_similarity = qwen2_5_1_5b_similarity.mean()\n",
    "mean_qwen2_5_14b_similarity = qwen2_5_14b_similarity.mean()"
   ]
  },
  {
   "cell_type": "code",
   "execution_count": 10,
   "id": "2cf5fb9e",
   "metadata": {},
   "outputs": [
    {
     "name": "stdout",
     "output_type": "stream",
     "text": [
      "DeepSeek R1 1.5B Similarity:\n",
      "0.1816210752921698\n",
      "DeepSeek R1 14B Similarity:\n",
      "0.17547410338860242\n",
      "Qwen2.5 1.5B Similarity:\n",
      "0.2500555101332525\n",
      "Qwen2.5 14B Similarity:\n",
      "0.25314506202571957\n"
     ]
    }
   ],
   "source": [
    "print(\"DeepSeek R1 1.5B Similarity:\")\n",
    "print(deepseek_r1_1_5b_similarity.mean(axis=0))\n",
    "print(\"DeepSeek R1 14B Similarity:\")\n",
    "print(deepseek_r1_14b_similarity.mean(axis=0))\n",
    "print(\"Qwen2.5 1.5B Similarity:\")\n",
    "print(qwen2_5_1_5b_similarity.mean(axis=0))\n",
    "print(\"Qwen2.5 14B Similarity:\")\n",
    "print(qwen2_5_14b_similarity.mean(axis=0))"
   ]
  },
  {
   "cell_type": "code",
   "execution_count": 11,
   "id": "fb4bee6f",
   "metadata": {},
   "outputs": [
    {
     "name": "stdout",
     "output_type": "stream",
     "text": [
      "              Model      Mean    Median       Std\n",
      "0  DeepSeek R1 1.5B  0.181621  0.170951  0.092287\n",
      "1   DeepSeek R1 14B  0.175474  0.167578  0.076222\n",
      "2      Qwen2.5 1.5B  0.250056  0.248039  0.103278\n",
      "3       Qwen2.5 14B  0.253145  0.251845  0.076693\n"
     ]
    }
   ],
   "source": [
    "import numpy as np\n",
    "\n",
    "\n",
    "stats = {\n",
    "    \"Model\": [\n",
    "        \"DeepSeek R1 1.5B\",\n",
    "        \"DeepSeek R1 14B\",\n",
    "        \"Qwen2.5 1.5B\",\n",
    "        \"Qwen2.5 14B\"\n",
    "    ],\n",
    "    \"Mean\": [\n",
    "        np.mean(deepseek_r1_1_5b_similarity),\n",
    "        np.mean(deepseek_r1_14b_similarity),\n",
    "        np.mean(qwen2_5_1_5b_similarity),\n",
    "        np.mean(qwen2_5_14b_similarity)\n",
    "    ],\n",
    "    \"Median\": [\n",
    "        np.median(deepseek_r1_1_5b_similarity),\n",
    "        np.median(deepseek_r1_14b_similarity),\n",
    "        np.median(qwen2_5_1_5b_similarity),\n",
    "        np.median(qwen2_5_14b_similarity)\n",
    "    ],\n",
    "    \"Std\": [\n",
    "        np.std(deepseek_r1_1_5b_similarity),\n",
    "        np.std(deepseek_r1_14b_similarity),\n",
    "        np.std(qwen2_5_1_5b_similarity),\n",
    "        np.std(qwen2_5_14b_similarity)\n",
    "    ]\n",
    "}\n",
    "\n",
    "stats_df = pd.DataFrame(stats)\n",
    "print(stats_df)"
   ]
  },
  {
   "cell_type": "markdown",
   "id": "a2c8b580",
   "metadata": {},
   "source": [
    "N-GRAMS OVERLAPPING"
   ]
  },
  {
   "cell_type": "code",
   "execution_count": 12,
   "id": "e398a570",
   "metadata": {},
   "outputs": [],
   "source": [
    "### BUILD FUNCTION FOR N-GRAM OVERLAP ###\n",
    "\n",
    "def ngrams(text, n):\n",
    "    tokens = text.lower().split() \n",
    "    return set([' '.join(tokens[i:i+n]) for i in range(len(tokens)-n+1)])\n",
    "\n",
    "def ngram_overlap(text1, text2, n):\n",
    "    ngrams1 = ngrams(text1, n)\n",
    "    ngrams2 = ngrams(text2, n)\n",
    "    \n",
    "    intersection = len(ngrams1 & ngrams2)\n",
    "    union = len(ngrams1 | ngrams2)\n",
    "    \n",
    "    if union == 0:\n",
    "        return 0.0\n",
    "    else:\n",
    "        return intersection / union"
   ]
  },
  {
   "cell_type": "code",
   "execution_count": 13,
   "id": "816f6c34",
   "metadata": {},
   "outputs": [],
   "source": [
    "# N-gram overlap with n=3 (can change with n=2, n=1)\n",
    "n = 3\n",
    "\n",
    "essay_evaluation_data['deepseek_r1_1_5b_ngram_overlap'] = essay_evaluation_data.apply(lambda row: ngram_overlap(row['evaluation'], row['deepseek-r1:1.5b_reasoning'], n), axis=1)\n",
    "essay_evaluation_data['deepseek_r1_14b_ngram_overlap']  = essay_evaluation_data.apply(lambda row: ngram_overlap(row['evaluation'], row['deepseek-r1:14b_reasoning'], n), axis=1)\n",
    "essay_evaluation_data['qwen2_5_1_5b_ngram_overlap']     = essay_evaluation_data.apply(lambda row: ngram_overlap(row['evaluation'], row['qwen2.5:1.5b_reasoning'], n), axis=1)\n",
    "essay_evaluation_data['qwen2_5_14b_ngram_overlap']      = essay_evaluation_data.apply(lambda row: ngram_overlap(row['evaluation'], row['qwen2.5:14b_reasoning'], n), axis=1)"
   ]
  },
  {
   "cell_type": "code",
   "execution_count": 14,
   "id": "834c06ab",
   "metadata": {},
   "outputs": [],
   "source": [
    "mean_deepseek_r1_1_5b_ngram = essay_evaluation_data['deepseek_r1_1_5b_ngram_overlap'].mean()\n",
    "mean_deepseek_r1_14b_ngram  = essay_evaluation_data['deepseek_r1_14b_ngram_overlap'].mean()\n",
    "mean_qwen2_5_1_5b_ngram     = essay_evaluation_data['qwen2_5_1_5b_ngram_overlap'].mean()\n",
    "mean_qwen2_5_14b_ngram      = essay_evaluation_data['qwen2_5_14b_ngram_overlap'].mean()"
   ]
  },
  {
   "cell_type": "code",
   "execution_count": 15,
   "id": "25c2a848",
   "metadata": {},
   "outputs": [
    {
     "name": "stdout",
     "output_type": "stream",
     "text": [
      "Mean N-gram overlap (DeepSeek 1.5B): 0.004106528452132686\n",
      "Mean N-gram overlap (DeepSeek 14B): 0.011819587859802052\n",
      "Mean N-gram overlap (Qwen 1.5B): 0.023385773738184047\n",
      "Mean N-gram overlap (Qwen 14B): 0.02652261858918125\n"
     ]
    }
   ],
   "source": [
    "print(\"Mean N-gram overlap (DeepSeek 1.5B):\", mean_deepseek_r1_1_5b_ngram)\n",
    "print(\"Mean N-gram overlap (DeepSeek 14B):\", mean_deepseek_r1_14b_ngram)\n",
    "print(\"Mean N-gram overlap (Qwen 1.5B):\", mean_qwen2_5_1_5b_ngram)\n",
    "print(\"Mean N-gram overlap (Qwen 14B):\", mean_qwen2_5_14b_ngram)"
   ]
  },
  {
   "cell_type": "markdown",
   "id": "2d8d60b4",
   "metadata": {},
   "source": [
    "METRICHE/SCORE"
   ]
  },
  {
   "cell_type": "code",
   "execution_count": 16,
   "id": "21de7d2f",
   "metadata": {},
   "outputs": [],
   "source": [
    "from nltk.translate.bleu_score import sentence_bleu, SmoothingFunction\n",
    "from nltk.translate.meteor_score import single_meteor_score\n",
    "from rouge_score import rouge_scorer\n",
    "import sacrebleu"
   ]
  },
  {
   "cell_type": "code",
   "execution_count": 17,
   "id": "23bb3312",
   "metadata": {},
   "outputs": [],
   "source": [
    "### BLEU SCORE ###\n",
    "\n",
    "#smoothing function in order to prevent zero division errors\n",
    "smoothie = SmoothingFunction().method4\n",
    "\n",
    "def compute_bleu(reference_text, candidate_text):\n",
    "    reference = [reference_text.lower().split()]\n",
    "    candidate = candidate_text.lower().split()\n",
    "    return sentence_bleu(reference, candidate, smoothing_function=smoothie)"
   ]
  },
  {
   "cell_type": "code",
   "execution_count": 18,
   "id": "17f579d0",
   "metadata": {},
   "outputs": [],
   "source": [
    "### ROUGE-L ###\n",
    "\n",
    "rouge_scorer_obj = rouge_scorer.RougeScorer(['rougeL'], use_stemmer = True)\n",
    "\n",
    "def compute_rouge(reference_text, candidate_text):\n",
    "    scores = rouge_scorer_obj.score(reference_text, candidate_text)\n",
    "    #F1 measure of ROUGE-L\n",
    "    return scores['rougeL'].fmeasure "
   ]
  },
  {
   "cell_type": "code",
   "execution_count": 19,
   "id": "1f7bdd87",
   "metadata": {},
   "outputs": [
    {
     "name": "stderr",
     "output_type": "stream",
     "text": [
      "[nltk_data] Downloading package wordnet to\n",
      "[nltk_data]     C:\\Users\\filip\\AppData\\Roaming\\nltk_data...\n",
      "[nltk_data]   Package wordnet is already up-to-date!\n",
      "[nltk_data] Downloading package omw-1.4 to\n",
      "[nltk_data]     C:\\Users\\filip\\AppData\\Roaming\\nltk_data...\n",
      "[nltk_data]   Package omw-1.4 is already up-to-date!\n"
     ]
    }
   ],
   "source": [
    "### METEOR SCORE ###\n",
    "\n",
    "import nltk\n",
    "nltk.download('wordnet')\n",
    "nltk.download('omw-1.4')\n",
    "\n",
    "def compute_meteor(reference_text, candidate_text):\n",
    "    return single_meteor_score(reference_text.lower().split(), candidate_text.lower().split())"
   ]
  },
  {
   "cell_type": "code",
   "execution_count": 20,
   "id": "ddcb2bcc",
   "metadata": {},
   "outputs": [],
   "source": [
    "# BLEU\n",
    "essay_evaluation_data['deepseek_r1_1_5b_bleu'] = essay_evaluation_data.apply(lambda row: compute_bleu(row['evaluation'], row['deepseek-r1:1.5b_reasoning']), axis=1)\n",
    "essay_evaluation_data['deepseek_r1_14b_bleu']  = essay_evaluation_data.apply(lambda row: compute_bleu(row['evaluation'], row['deepseek-r1:14b_reasoning']), axis=1)\n",
    "essay_evaluation_data['qwen2_5_1_5b_bleu']     = essay_evaluation_data.apply(lambda row: compute_bleu(row['evaluation'], row['qwen2.5:1.5b_reasoning']), axis=1)\n",
    "essay_evaluation_data['qwen2_5_14b_bleu']      = essay_evaluation_data.apply(lambda row: compute_bleu(row['evaluation'], row['qwen2.5:14b_reasoning']), axis=1)"
   ]
  },
  {
   "cell_type": "code",
   "execution_count": 21,
   "id": "b95fcde8",
   "metadata": {},
   "outputs": [],
   "source": [
    "essay_evaluation_data['deepseek_r1_1_5b_rouge'] = essay_evaluation_data.apply(lambda row: compute_rouge(row['evaluation'], row['deepseek-r1:1.5b_reasoning']), axis=1)\n",
    "essay_evaluation_data['deepseek_r1_14b_rouge']  = essay_evaluation_data.apply(lambda row: compute_rouge(row['evaluation'], row['deepseek-r1:14b_reasoning']), axis=1)\n",
    "essay_evaluation_data['qwen2_5_1_5b_rouge']     = essay_evaluation_data.apply(lambda row: compute_rouge(row['evaluation'], row['qwen2.5:1.5b_reasoning']), axis=1)\n",
    "essay_evaluation_data['qwen2_5_14b_rouge']      = essay_evaluation_data.apply(lambda row: compute_rouge(row['evaluation'], row['qwen2.5:14b_reasoning']), axis=1)"
   ]
  },
  {
   "cell_type": "code",
   "execution_count": 22,
   "id": "367488fa",
   "metadata": {},
   "outputs": [],
   "source": [
    "essay_evaluation_data['deepseek_r1_1_5b_meteor'] = essay_evaluation_data.apply(lambda row: compute_meteor(row['evaluation'], row['deepseek-r1:1.5b_reasoning']), axis=1)\n",
    "essay_evaluation_data['deepseek_r1_14b_meteor']  = essay_evaluation_data.apply(lambda row: compute_meteor(row['evaluation'], row['deepseek-r1:14b_reasoning']), axis=1)\n",
    "essay_evaluation_data['qwen2_5_1_5b_meteor']     = essay_evaluation_data.apply(lambda row: compute_meteor(row['evaluation'], row['qwen2.5:1.5b_reasoning']), axis=1)\n",
    "essay_evaluation_data['qwen2_5_14b_meteor']      = essay_evaluation_data.apply(lambda row: compute_meteor(row['evaluation'], row['qwen2.5:14b_reasoning']), axis=1)"
   ]
  },
  {
   "cell_type": "code",
   "execution_count": 23,
   "id": "903cdb10",
   "metadata": {},
   "outputs": [
    {
     "name": "stdout",
     "output_type": "stream",
     "text": [
      "Mean BLEU (DeepSeek 1.5B): 0.015933583409443414\n",
      "Mean BLEU (DeepSeek 14B): 0.034129205373130064\n",
      "Mean BLEU (Qwen 1.5B): 0.05320882775950697\n",
      "Mean BLEU (Qwen 14B): 0.06209584941862815\n"
     ]
    }
   ],
   "source": [
    "print(\"Mean BLEU (DeepSeek 1.5B):\", essay_evaluation_data['deepseek_r1_1_5b_bleu'].mean())\n",
    "print(\"Mean BLEU (DeepSeek 14B):\", essay_evaluation_data['deepseek_r1_14b_bleu'].mean())\n",
    "print(\"Mean BLEU (Qwen 1.5B):\", essay_evaluation_data['qwen2_5_1_5b_bleu'].mean())\n",
    "print(\"Mean BLEU (Qwen 14B):\", essay_evaluation_data['qwen2_5_14b_bleu'].mean())"
   ]
  },
  {
   "cell_type": "code",
   "execution_count": 24,
   "id": "40a6c1c8",
   "metadata": {},
   "outputs": [
    {
     "name": "stdout",
     "output_type": "stream",
     "text": [
      "Mean ROUGE-L DeepSeek_1.5: 0.13674999925644266\n",
      "Mean ROUGE-L DeepSeek_14B: 0.14175184120565326\n",
      "Mean ROUGE-L Qwen2.5_1.5B: 0.16177874740158588\n",
      "Mean ROUGE-L Qwen2.5_14B: 0.16552745435071858\n"
     ]
    }
   ],
   "source": [
    "print(\"Mean ROUGE-L DeepSeek_1.5:\", essay_evaluation_data['deepseek_r1_1_5b_rouge'].mean())\n",
    "print(\"Mean ROUGE-L DeepSeek_14B:\", essay_evaluation_data['deepseek_r1_14b_rouge'].mean())\n",
    "print(\"Mean ROUGE-L Qwen2.5_1.5B:\", essay_evaluation_data['qwen2_5_1_5b_rouge'].mean())\n",
    "print(\"Mean ROUGE-L Qwen2.5_14B:\", essay_evaluation_data['qwen2_5_14b_rouge'].mean())"
   ]
  },
  {
   "cell_type": "code",
   "execution_count": 25,
   "id": "2d7ec682",
   "metadata": {},
   "outputs": [
    {
     "name": "stdout",
     "output_type": "stream",
     "text": [
      "Mean METEOR (DeepSeek 1.5B): 0.1535712812729544\n",
      "Mean METEOR (DeepSeek 14B): 0.1774721050959949\n",
      "Mean METEOR (Qwen 1.5B): 0.24090656224433413\n",
      "Mean METEOR (Qwen 14B): 0.2297538118764793\n"
     ]
    }
   ],
   "source": [
    "print(\"Mean METEOR (DeepSeek 1.5B):\", essay_evaluation_data['deepseek_r1_1_5b_meteor'].mean())\n",
    "print(\"Mean METEOR (DeepSeek 14B):\", essay_evaluation_data['deepseek_r1_14b_meteor'].mean())\n",
    "print(\"Mean METEOR (Qwen 1.5B):\", essay_evaluation_data['qwen2_5_1_5b_meteor'].mean())\n",
    "print(\"Mean METEOR (Qwen 14B):\", essay_evaluation_data['qwen2_5_14b_meteor'].mean())"
   ]
  },
  {
   "cell_type": "code",
   "execution_count": 26,
   "id": "a13a3b46",
   "metadata": {},
   "outputs": [
    {
     "name": "stdout",
     "output_type": "stream",
     "text": [
      "                  Cosine Similarity  N-gram Overlap      BLEU   ROUGE-L  \\\n",
      "DeepSeek R1 1.5B           0.181621        0.004107  0.015934  0.136750   \n",
      "DeepSeek R1 14B            0.175474        0.011820  0.034129  0.141752   \n",
      "Qwen2.5 1.5B               0.250056        0.023386  0.053209  0.161779   \n",
      "Qwen2.5 14B                0.253145        0.026523  0.062096  0.165527   \n",
      "\n",
      "                    METEOR  \n",
      "DeepSeek R1 1.5B  0.153571  \n",
      "DeepSeek R1 14B   0.177472  \n",
      "Qwen2.5 1.5B      0.240907  \n",
      "Qwen2.5 14B       0.229754  \n"
     ]
    }
   ],
   "source": [
    "metrics = {\n",
    "    \"Cosine Similarity\": [\n",
    "        deepseek_r1_1_5b_similarity.mean(),\n",
    "        deepseek_r1_14b_similarity.mean(),\n",
    "        qwen2_5_1_5b_similarity.mean(),\n",
    "        qwen2_5_14b_similarity.mean()\n",
    "    ],\n",
    "    \"N-gram Overlap\": [\n",
    "        essay_evaluation_data['deepseek_r1_1_5b_ngram_overlap'].mean(),\n",
    "        essay_evaluation_data['deepseek_r1_14b_ngram_overlap'].mean(),\n",
    "        essay_evaluation_data['qwen2_5_1_5b_ngram_overlap'].mean(),\n",
    "        essay_evaluation_data['qwen2_5_14b_ngram_overlap'].mean()\n",
    "    ],\n",
    "    \"BLEU\": [\n",
    "        essay_evaluation_data['deepseek_r1_1_5b_bleu'].mean(),\n",
    "        essay_evaluation_data['deepseek_r1_14b_bleu'].mean(),\n",
    "        essay_evaluation_data['qwen2_5_1_5b_bleu'].mean(),\n",
    "        essay_evaluation_data['qwen2_5_14b_bleu'].mean()\n",
    "    ],\n",
    "    \"ROUGE-L\": [\n",
    "        essay_evaluation_data['deepseek_r1_1_5b_rouge'].mean(),\n",
    "        essay_evaluation_data['deepseek_r1_14b_rouge'].mean(),\n",
    "        essay_evaluation_data['qwen2_5_1_5b_rouge'].mean(),\n",
    "        essay_evaluation_data['qwen2_5_14b_rouge'].mean()\n",
    "    ],\n",
    "    \"METEOR\": [\n",
    "        essay_evaluation_data['deepseek_r1_1_5b_meteor'].mean(),\n",
    "        essay_evaluation_data['deepseek_r1_14b_meteor'].mean(),\n",
    "        essay_evaluation_data['qwen2_5_1_5b_meteor'].mean(),\n",
    "        essay_evaluation_data['qwen2_5_14b_meteor'].mean()\n",
    "    ]\n",
    "}\n",
    "\n",
    "models = [\"DeepSeek R1 1.5B\", \"DeepSeek R1 14B\", \"Qwen2.5 1.5B\", \"Qwen2.5 14B\"]\n",
    "metrics_df = pd.DataFrame(metrics, index=models)\n",
    "print(metrics_df)"
   ]
  }
 ],
 "metadata": {
  "kernelspec": {
   "display_name": "Python 3",
   "language": "python",
   "name": "python3"
  },
  "language_info": {
   "codemirror_mode": {
    "name": "ipython",
    "version": 3
   },
   "file_extension": ".py",
   "mimetype": "text/x-python",
   "name": "python",
   "nbconvert_exporter": "python",
   "pygments_lexer": "ipython3",
   "version": "3.13.2"
  }
 },
 "nbformat": 4,
 "nbformat_minor": 5
}
